{
 "cells": [
  {
   "cell_type": "code",
   "execution_count": null,
   "id": "99c5127c",
   "metadata": {},
   "outputs": [],
   "source": [
    "1. What is the name of the feature responsible for generating Regex objects?\n",
    "ANSWER:\n",
    "    re.compile() function is responsible for generating regex object."
   ]
  },
  {
   "cell_type": "code",
   "execution_count": null,
   "id": "01da08e4",
   "metadata": {},
   "outputs": [],
   "source": [
    "2. Why do raw strings often appear in Regex objects?\n",
    "ANSWER:\n",
    "    they are used to make sure that backslashes do not have to be escaped."
   ]
  },
  {
   "cell_type": "code",
   "execution_count": null,
   "id": "090d2401",
   "metadata": {},
   "outputs": [],
   "source": [
    "3. What is the return value of the search() method?\n",
    "ANSWER:\n",
    "    search() method returns Match objects."
   ]
  },
  {
   "cell_type": "code",
   "execution_count": null,
   "id": "8765a61a",
   "metadata": {},
   "outputs": [],
   "source": [
    "4. From a Match item, how do you get the actual strings that match the pattern?\n",
    "ANSWER:\n",
    "    group() method returns strings of the matched text."
   ]
  },
  {
   "cell_type": "code",
   "execution_count": null,
   "id": "ff635193",
   "metadata": {},
   "outputs": [],
   "source": [
    "5. In the regex which created from the r'(\\d\\d\\d)-(\\d\\d\\d-\\d\\d\\d\\d)', what does group zero cover?\n",
    "Group 2? Group 1?\n",
    "ANSWER:\n",
    "    Group 0 is the entire match, group 1 covers the first set of parentheses, and group 2 covers the second set of parentheses."
   ]
  },
  {
   "cell_type": "code",
   "execution_count": null,
   "id": "d00d82b4",
   "metadata": {},
   "outputs": [],
   "source": [
    "6. In standard expression syntax, parentheses and intervals have distinct meanings. How can you tell\n",
    "a regex that you want it to fit real parentheses and periods?\n",
    "ANSWER:\n",
    "    Periods and parentheses can be escaped with a backslash: \\., \\(, and \\)."
   ]
  },
  {
   "cell_type": "code",
   "execution_count": null,
   "id": "f9858e0b",
   "metadata": {},
   "outputs": [],
   "source": [
    "7. The findall() method returns a string list or a list of string tuples. What causes it to return one of\n",
    "the two options?\n",
    "ANSWER:\n",
    "    If the regex has no groups, a list of strings is returned. \n",
    "    If the regex has groups, a list of tuples of strings is returned.\n"
   ]
  },
  {
   "cell_type": "code",
   "execution_count": null,
   "id": "df7c47ec",
   "metadata": {},
   "outputs": [],
   "source": [
    "8. In standard expressions, what does the | character mean?\n",
    "ANSWER:\n",
    "     | character signifies matching \"either, or\" between two groups."
   ]
  },
  {
   "cell_type": "code",
   "execution_count": null,
   "id": "52ded369",
   "metadata": {},
   "outputs": [],
   "source": [
    "9. In regular expressions, what does the character stand for?\n",
    "ANSWER:\n",
    "    character can either mean \"match zero or one of the preceding group\" or be used to signify nongreedy matching."
   ]
  },
  {
   "cell_type": "code",
   "execution_count": null,
   "id": "41450204",
   "metadata": {},
   "outputs": [],
   "source": [
    "10.In regular expressions, what is the difference between the + and * characters?\n",
    "ANSWER:\n",
    "    The + matches one or more. \n",
    "    The * matches zero or more."
   ]
  },
  {
   "cell_type": "code",
   "execution_count": null,
   "id": "26df9b1b",
   "metadata": {},
   "outputs": [],
   "source": [
    "11. What is the difference between {4} and {4,5} in regular expression?\n",
    "ANSWER:\n",
    "    The {3} matches exactly three instances of the preceding group.\n",
    "    The {3,5} matches between three and five instances.\n"
   ]
  },
  {
   "cell_type": "code",
   "execution_count": null,
   "id": "d67a296f",
   "metadata": {},
   "outputs": [],
   "source": [
    "12. What do you mean by the \\d, \\w, and \\s shorthand character classes signify in regular\n",
    "expressions?\n",
    "ANSWER:\n",
    "    The \\d, \\w, and \\s shorthand character classes match a single digit, word, or space character."
   ]
  },
  {
   "cell_type": "code",
   "execution_count": null,
   "id": "6df57a17",
   "metadata": {},
   "outputs": [],
   "source": [
    "13. What do means by \\D, \\W, and \\S shorthand character classes signify in regular expressions?\n",
    "ANSWER:\n",
    "    The \\D, \\W, and \\S shorthand character classes match a single character that is not a digit, word, or space character."
   ]
  },
  {
   "cell_type": "code",
   "execution_count": null,
   "id": "937d4294",
   "metadata": {},
   "outputs": [],
   "source": [
    "14. What is the difference between .*? and .*?\n",
    "ANSWER:\n",
    "    The . performs a greedy match, and the .? performs a nongreedy match."
   ]
  },
  {
   "cell_type": "code",
   "execution_count": null,
   "id": "003f0ab8",
   "metadata": {},
   "outputs": [],
   "source": [
    "15. What is the syntax for matching both numbers and lowercase letters with a character class?\n",
    "ANSWER:\n",
    "    Either [0-9a-z] or [a-z0-9]"
   ]
  },
  {
   "cell_type": "code",
   "execution_count": null,
   "id": "f1bc1d35",
   "metadata": {},
   "outputs": [],
   "source": [
    "16. What is the procedure for making a normal expression in regax case insensitive?\n",
    "ANSWER:\n",
    "    Passing re.I or re.IGNORECASE as the second argument to re.compile() will make the matching case insensitive."
   ]
  },
  {
   "cell_type": "code",
   "execution_count": null,
   "id": "30406e83",
   "metadata": {},
   "outputs": [],
   "source": [
    "17. What does the . character normally match? What does it match if re.DOTALL is passed as 2nd\n",
    "argument in re.compile()?\n",
    "ANSWER:\n",
    "    The . character normally matches any character except the newline character. \n",
    "    If re.DOTALL is passed as the second argument to re.compile(), then the dot will also match newline characters."
   ]
  },
  {
   "cell_type": "code",
   "execution_count": null,
   "id": "80060323",
   "metadata": {},
   "outputs": [],
   "source": [
    "18.If numRegex = re.compile(r'\\d+'), what will numRegex.sub('X', '12 drummers, 11 pipers, five rings, 3 hens') return?\n",
    "ANSWER:\n",
    "    'X drummers, X pipers, five rings, X hens'"
   ]
  },
  {
   "cell_type": "code",
   "execution_count": null,
   "id": "bc543bee",
   "metadata": {},
   "outputs": [],
   "source": [
    "19. What does passing re.VERBOSE as the 2nd argument to re.compile() allow to do?\n",
    "ANSWER:\n",
    "    The re.VERBOSE argument allows you to add whitespace and comments to the string passed to re.compile()."
   ]
  },
  {
   "cell_type": "code",
   "execution_count": null,
   "id": "1e3061ce",
   "metadata": {},
   "outputs": [],
   "source": [
    "20.How would you write a regex that matches a number with commas for every three digits? It must match the following:\n",
    "\n",
    "    '42'\n",
    "\n",
    "    '1,234'\n",
    "\n",
    "     '6,368,745'\n",
    "   \n",
    "    but not the following:\n",
    "\n",
    "    '12,34,567' (which has only two digits between the commas)\n",
    "\n",
    "    '1234' (which lacks commas)\n",
    "ANSWER: \n",
    "    re.compile(r'^\\d{1,3}(,\\d{3})*$') will create this regex, but other regex strings can produce a similar regular expression."
   ]
  },
  {
   "cell_type": "code",
   "execution_count": null,
   "id": "bcdfc5e2",
   "metadata": {},
   "outputs": [],
   "source": [
    "21.How would you write a regex that matches the full name of someone whose last name is Nakamoto? You can assume that the first name that comes before it will always be one word that begins with a capital letter. The regex must match the following:\n",
    "\n",
    "'Satoshi Nakamoto'\n",
    "\n",
    "'Alice Nakamoto'\n",
    "\n",
    "'Robocop Nakamoto'\n",
    "\n",
    "but not the following:\n",
    "\n",
    "'satoshi Nakamoto' (where the first name is not capitalized)\n",
    "\n",
    "'Mr. Nakamoto' (where the preceding word has a nonletter character)\n",
    "\n",
    "'Nakamoto' (which has no first name)\n",
    "\n",
    "'Satoshi nakamoto' (where Nakamoto is not capitalized)\n",
    "ANSWER:\n",
    "    re.compile(r'[A-Z][a-z]*\\sNakamoto')"
   ]
  },
  {
   "cell_type": "code",
   "execution_count": null,
   "id": "1f382375",
   "metadata": {},
   "outputs": [],
   "source": [
    "22.How would you write a regex that matches a sentence where the first word is either Alice, Bob, or Carol; the second word is either eats, pets, or throws; the third word is apples, cats, or baseballs; and the sentence ends with a period? This regex should be case-insensitive. It must match the following:\n",
    "\n",
    "'Alice eats apples.'\n",
    "\n",
    "'Bob pets cats.'\n",
    "\n",
    "'Carol throws baseballs.'\n",
    "\n",
    "'Alice throws Apples.'\n",
    "\n",
    "'BOB EATS CATS.'\n",
    "\n",
    "but not the following:\n",
    "\n",
    "'Robocop eats apples.'\n",
    "\n",
    "'ALICE THROWS FOOTBALLS.'\n",
    "\n",
    "'Carol eats 7 cats.'\n",
    "ANSWER:\n",
    "    re.compile(r'(Alice|Bob|Carol)\\s(eats|pets|throws)\\s(apples|cats|baseballs)\\.', re.IGNORECASE)"
   ]
  },
  {
   "cell_type": "code",
   "execution_count": null,
   "id": "b3ec3d45",
   "metadata": {},
   "outputs": [],
   "source": []
  }
 ],
 "metadata": {
  "kernelspec": {
   "display_name": "Python 3 (ipykernel)",
   "language": "python",
   "name": "python3"
  },
  "language_info": {
   "codemirror_mode": {
    "name": "ipython",
    "version": 3
   },
   "file_extension": ".py",
   "mimetype": "text/x-python",
   "name": "python",
   "nbconvert_exporter": "python",
   "pygments_lexer": "ipython3",
   "version": "3.9.13"
  }
 },
 "nbformat": 4,
 "nbformat_minor": 5
}
